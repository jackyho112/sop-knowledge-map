{
 "cells": [
  {
   "cell_type": "code",
   "execution_count": 60,
   "metadata": {},
   "outputs": [],
   "source": [
    "import mammoth\n",
    "from bs4 import BeautifulSoup\n",
    "from pprint import pprint"
   ]
  },
  {
   "cell_type": "code",
   "execution_count": 7,
   "metadata": {},
   "outputs": [],
   "source": [
    "f = open(\"./data/A-ANIMAL.docx\", 'rb')\n",
    "document = mammoth.convert_to_html(f)"
   ]
  },
  {
   "cell_type": "code",
   "execution_count": 11,
   "metadata": {},
   "outputs": [],
   "source": [
    "sop = BeautifulSoup(document.value.encode('utf8'))"
   ]
  },
  {
   "cell_type": "code",
   "execution_count": 33,
   "metadata": {},
   "outputs": [],
   "source": [
    "ele = sop.find('h1', string='call taker').next_element.next_element.next_element.next_element.next_element.next_element.next_element"
   ]
  },
  {
   "cell_type": "code",
   "execution_count": 44,
   "metadata": {},
   "outputs": [],
   "source": [
    "ele = ele.next_element.next_element.next_element.next_element.next_element.next_element.next_element.next_element.next_element.next_element"
   ]
  },
  {
   "cell_type": "code",
   "execution_count": 49,
   "metadata": {},
   "outputs": [
    {
     "data": {
      "text/plain": [
       "<generator object PageElement.next_elements at 0x10f344f50>"
      ]
     },
     "execution_count": 49,
     "metadata": {},
     "output_type": "execute_result"
    }
   ],
   "source": [
    "ele.next_element.next_element.next_elements"
   ]
  },
  {
   "cell_type": "code",
   "execution_count": 113,
   "metadata": {},
   "outputs": [],
   "source": [
    "start = sop.find('h1', string='call taker')"
   ]
  },
  {
   "cell_type": "code",
   "execution_count": 171,
   "metadata": {},
   "outputs": [],
   "source": [
    "def deal_with_nested_list(uls):\n",
    "    return {}"
   ]
  },
  {
   "cell_type": "code",
   "execution_count": 172,
   "metadata": {},
   "outputs": [],
   "source": [
    "current_keys = []\n",
    "current_text = None\n",
    "animal_event = {}\n",
    "add_key = False\n",
    "\n",
    "for element in start.next_elements:\n",
    "    tag = element.name\n",
    "    level = {}\n",
    "    \n",
    "    if tag == 'h1':\n",
    "        break\n",
    "    elif tag == 'h2':\n",
    "        current_text = element.text\n",
    "        current_keys = []\n",
    "    elif tag == 'p':\n",
    "        current_text = element.text\n",
    "        current_keys = current_keys[:1]\n",
    "        \n",
    "        if element.next_element.name == 'ul':\n",
    "            level = deal_with_nested_list(element)\n",
    "\n",
    "    if current_text == None:\n",
    "        continue\n",
    "    \n",
    "    current_level = animal_event\n",
    "    \n",
    "    for key in current_keys:\n",
    "        current_level = current_level[key]\n",
    "        \n",
    "    current_level[current_text] = level\n",
    "    current_keys.append(current_text)\n",
    "    \n",
    "    current_text = None"
   ]
  },
  {
   "cell_type": "code",
   "execution_count": null,
   "metadata": {},
   "outputs": [],
   "source": []
  },
  {
   "cell_type": "code",
   "execution_count": 173,
   "metadata": {},
   "outputs": [
    {
     "name": "stdout",
     "output_type": "stream",
     "text": [
      "{'Animal bites – Just occurred or with a time delay': {'Advise BCEHS as required': {},\n",
      "                                                       'Refer to Animal Control': {}},\n",
      " 'Animal left in a vehicle': {'If animal is in imminent distress': {'Transfer caller to Fire': {}},\n",
      "                              'In all other instances': {'Refer to Animal Control': {}}},\n",
      " 'Deceased animals': {' Large animal': {'Contact the Department of Highways': {},\n",
      "                                        'On highways': {},\n",
      "                                        'On municipal property': {},\n",
      "                                        'Refer to Public Works Yard': {}},\n",
      "                      'Small animal': {'Refer to Animal Control': {}}},\n",
      " 'Dogs at large': {'If running at large and attacking or viciously pursuing a person or domestic animal or livestock': {'Create a call': {}},\n",
      "                   'In all other cases ': {'Refer to Animal Control': {}}},\n",
      " 'Dogs barking': {'Refer to Animal Control': {}},\n",
      " 'Livestock at large': {'Create a call': {'Can the animal be contained?': {},\n",
      "                                          'Description': {},\n",
      "                                          'How many animals are loose': {},\n",
      "                                          'Is the animal a traffic hazard or danger to the public?': {},\n",
      "                                          'Is the owner known or present?': {},\n",
      "                                          'Type of animal': {}}},\n",
      " 'MVI’s involving Livestock': {'Create an MVI call': {},\n",
      "                               'Instruct caller not to remove animals from the trailer': {}},\n",
      " 'Neglected or injured domestic animals': {'Injured dogs and cats as a result of a fire or MVI': {'Refer to Fire': {}},\n",
      "                                           'Refer to Animal Control': {}},\n",
      " 'Nuisance animals (including on the freeway and pet snakes)': {'Create a call if there is immediate danger': {},\n",
      "                                                                'Refer to Animal Control or Conservation office': {}},\n",
      " 'Wild animals ': {'Bear sightings': {'Refer caller to the Emergency Coordination Centre for Bear Sightings': {}},\n",
      "                   'If animal exhibits aggressive behaviour (e.g. stalking)': {'Create a call': {}},\n",
      "                   'If animal remains in a residential or urban area or is in a park, school yard or recreational area (excluding rural trails) that would likely be in use': {'Refer caller to Conservation ': {}},\n",
      "                   'If stray rabbit': {'Refer to SPCA': {}},\n",
      "                   'If wild animal is injured': {'Refer caller to Conservation': {}}}}\n"
     ]
    }
   ],
   "source": [
    "pprint(animal_event)"
   ]
  },
  {
   "cell_type": "code",
   "execution_count": null,
   "metadata": {},
   "outputs": [],
   "source": []
  }
 ],
 "metadata": {
  "kernelspec": {
   "display_name": "Python 3",
   "language": "python",
   "name": "python3"
  },
  "language_info": {
   "codemirror_mode": {
    "name": "ipython",
    "version": 3
   },
   "file_extension": ".py",
   "mimetype": "text/x-python",
   "name": "python",
   "nbconvert_exporter": "python",
   "pygments_lexer": "ipython3",
   "version": "3.7.4"
  }
 },
 "nbformat": 4,
 "nbformat_minor": 4
}
