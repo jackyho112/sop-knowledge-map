{
 "cells": [
  {
   "cell_type": "code",
   "execution_count": 188,
   "metadata": {},
   "outputs": [],
   "source": [
    "import mammoth\n",
    "from bs4 import BeautifulSoup\n",
    "from pprint import pprint\n",
    "import pydot\n",
    "from IPython.display import Image, display\n",
    "from os import listdir\n",
    "from os.path import isfile, join\n",
    "from deepmerge import always_merger\n",
    "import stanfordnlp"
   ]
  },
  {
   "cell_type": "code",
   "execution_count": 189,
   "metadata": {},
   "outputs": [
    {
     "name": "stdout",
     "output_type": "stream",
     "text": [
      "Using the default treebank \"en_ewt\" for language \"en\".\n",
      "Would you like to download the models for: en_ewt now? (Y/n)\n"
     ]
    },
    {
     "name": "stdin",
     "output_type": "stream",
     "text": [
      " Y\n"
     ]
    },
    {
     "name": "stdout",
     "output_type": "stream",
     "text": [
      "\n",
      "Default download directory: /Users/jackyho/stanfordnlp_resources\n",
      "Hit enter to continue or type an alternate directory.\n"
     ]
    },
    {
     "name": "stdin",
     "output_type": "stream",
     "text": [
      " \n"
     ]
    },
    {
     "name": "stdout",
     "output_type": "stream",
     "text": [
      "\n",
      "Downloading models for: en_ewt\n",
      "Download location: /Users/jackyho/stanfordnlp_resources/en_ewt_models.zip\n"
     ]
    },
    {
     "name": "stderr",
     "output_type": "stream",
     "text": [
      "100%|██████████| 235M/235M [01:11<00:00, 3.28MB/s] \n"
     ]
    },
    {
     "name": "stdout",
     "output_type": "stream",
     "text": [
      "\n",
      "Download complete.  Models saved to: /Users/jackyho/stanfordnlp_resources/en_ewt_models.zip\n",
      "Extracting models file for: en_ewt\n",
      "Cleaning up...Done.\n"
     ]
    }
   ],
   "source": [
    "stanfordnlp.download('en') "
   ]
  },
  {
   "cell_type": "code",
   "execution_count": 69,
   "metadata": {},
   "outputs": [],
   "source": [
    "def nested_list_to_dict(ul):\n",
    "    level = {}\n",
    "    lis = ul.findChildren('li' , recursive=False)\n",
    "    \n",
    "    for li in lis:\n",
    "        child_ul = li.find('ul')\n",
    "        if child_ul == None:\n",
    "            level[li.next_element] = {}\n",
    "        else:\n",
    "            level[li.next_element] = nested_list_to_dict(child_ul)\n",
    "            \n",
    "    return level\n",
    "\n",
    "def file_to_html(file_path):\n",
    "    f = open(file_path, 'rb')\n",
    "    document = mammoth.convert_to_html(f)\n",
    "    return BeautifulSoup(document.value.encode('utf8'))\n",
    "\n",
    "def doc_to_dict(file_path):\n",
    "    html = file_to_html(file_path)\n",
    "    start = html.find('h1', string='call taker')\n",
    "    event = {}\n",
    "    current_sit = None\n",
    "\n",
    "    for element in start.next_elements:\n",
    "        tag = element.name\n",
    "        level = {}\n",
    "\n",
    "        if tag == 'h1':\n",
    "            break\n",
    "        elif tag == 'h2':\n",
    "            current_situation = element.text\n",
    "            event[current_situation] = {}\n",
    "        elif tag == 'p':\n",
    "            next_next_element = element.next_element.next_element\n",
    "            if next_next_element.name == 'ul':\n",
    "                event[current_situation][element.text] = nested_list_to_dict(next_next_element.find('ul'))\n",
    "            else:\n",
    "                event[current_situation][element.text] = {}\n",
    "\n",
    "    return event"
   ]
  },
  {
   "cell_type": "code",
   "execution_count": 70,
   "metadata": {},
   "outputs": [],
   "source": [
    "sop = doc_to_dict(\"./data/A-ANIMAL.docx\")"
   ]
  },
  {
   "cell_type": "code",
   "execution_count": 71,
   "metadata": {},
   "outputs": [
    {
     "name": "stdout",
     "output_type": "stream",
     "text": [
      "{'Animal bites – Just occurred or with a time delay': {'Advise BCEHS as required': {},\n",
      "                                                       'Refer to Animal Control': {}},\n",
      " 'Animal left in a vehicle': {'If animal is in imminent distress': {'Transfer caller to Fire': {}},\n",
      "                              'In all other instances': {'Refer to Animal Control': {}}},\n",
      " 'Deceased animals': {' Large animal': {'On highways': {'Contact the Department of Highways': {}},\n",
      "                                        'On municipal property': {'Refer to Public Works Yard': {}}},\n",
      "                      'Small animal': {'Refer to Animal Control': {}}},\n",
      " 'Dogs at large': {'If running at large and attacking or viciously pursuing a person or domestic animal or livestock': {'Create a call': {}},\n",
      "                   'In all other cases ': {'Refer to Animal Control': {}}},\n",
      " 'Dogs barking': {'Refer to Animal Control': {}},\n",
      " 'Livestock at large': {'Create a call': {'Can the animal be contained?': {},\n",
      "                                          'Description': {},\n",
      "                                          'How many animals are loose': {},\n",
      "                                          'Is the animal a traffic hazard or danger to the public?': {},\n",
      "                                          'Is the owner known or present?': {},\n",
      "                                          'Type of animal': {}}},\n",
      " 'MVI’s involving Livestock': {'Create an MVI call': {},\n",
      "                               'Instruct caller not to remove animals from the trailer': {}},\n",
      " 'Neglected or injured domestic animals': {'Injured dogs and cats as a result of a fire or MVI': {'Refer to Fire': {}},\n",
      "                                           'Refer to Animal Control': {}},\n",
      " 'Nuisance animals (including on the freeway and pet snakes)': {'Create a call if there is immediate danger': {},\n",
      "                                                                'Refer to Animal Control or Conservation office': {}},\n",
      " 'Wild animals ': {'Bear sightings': {'Refer caller to the Emergency Coordination Centre for Bear Sightings': {}},\n",
      "                   'If animal exhibits aggressive behaviour (e.g. stalking)': {'Create a call': {}},\n",
      "                   'If animal remains in a residential or urban area or is in a park, school yard or recreational area (excluding rural trails) that would likely be in use': {'Refer caller to Conservation ': {}},\n",
      "                   'If stray rabbit': {'Refer to SPCA': {}},\n",
      "                   'If wild animal is injured': {'Refer caller to Conservation': {}}}}\n"
     ]
    }
   ],
   "source": [
    "pprint(sop)"
   ]
  },
  {
   "cell_type": "code",
   "execution_count": 72,
   "metadata": {},
   "outputs": [],
   "source": [
    "def draw(graph, parent_name, child_name):\n",
    "    edge = pydot.Edge(parent_name, child_name)\n",
    "    graph.add_edge(edge)\n",
    "\n",
    "def visit(graph, node, parent=None):\n",
    "    for k,v in node.items():\n",
    "        if parent:\n",
    "            draw(graph, parent, k)\n",
    "        visit(graph, v, k)\n",
    "\n",
    "def dict_to_graph(sop_dict):\n",
    "    graph = pydot.Dot(graph_type='graph', rankdir='LR')\n",
    "    visit(graph, sop_dict)\n",
    "    \n",
    "    return graph"
   ]
  },
  {
   "cell_type": "code",
   "execution_count": 73,
   "metadata": {},
   "outputs": [],
   "source": [
    "graph = dict_to_graph(sop)"
   ]
  },
  {
   "cell_type": "code",
   "execution_count": 74,
   "metadata": {},
   "outputs": [],
   "source": [
    "graph.write_png('example1_graph.png')"
   ]
  },
  {
   "cell_type": "code",
   "execution_count": 75,
   "metadata": {},
   "outputs": [],
   "source": [
    "def docs_to_dict(dir_path):\n",
    "    files = [f for f in listdir(dir_path) if isfile(join(dir_path, f))]\n",
    "    dir_dict = {}\n",
    "    \n",
    "    for file_path in files:\n",
    "        file_dict = doc_to_dict(dir_path + '/' + file_path)\n",
    "        dir_dict = always_merger.merge(dir_dict, file_dict)\n",
    "\n",
    "    return dir_dict"
   ]
  },
  {
   "cell_type": "code",
   "execution_count": 76,
   "metadata": {},
   "outputs": [],
   "source": [
    "big_dict = docs_to_dict('./data')"
   ]
  },
  {
   "cell_type": "code",
   "execution_count": 77,
   "metadata": {},
   "outputs": [],
   "source": [
    "graph = dict_to_graph(big_dict)"
   ]
  },
  {
   "cell_type": "code",
   "execution_count": 78,
   "metadata": {},
   "outputs": [],
   "source": [
    "graph.write_png('example2_graph.png')"
   ]
  },
  {
   "cell_type": "code",
   "execution_count": 190,
   "metadata": {},
   "outputs": [
    {
     "name": "stdout",
     "output_type": "stream",
     "text": [
      "Use device: cpu\n",
      "---\n",
      "Loading: tokenize\n",
      "With settings: \n",
      "{'model_path': '/Users/jackyho/stanfordnlp_resources/en_ewt_models/en_ewt_tokenizer.pt', 'lang': 'en', 'shorthand': 'en_ewt', 'mode': 'predict'}\n",
      "---\n",
      "Loading: pos\n",
      "With settings: \n",
      "{'model_path': '/Users/jackyho/stanfordnlp_resources/en_ewt_models/en_ewt_tagger.pt', 'pretrain_path': '/Users/jackyho/stanfordnlp_resources/en_ewt_models/en_ewt.pretrain.pt', 'lang': 'en', 'shorthand': 'en_ewt', 'mode': 'predict'}\n",
      "---\n",
      "Loading: lemma\n",
      "With settings: \n",
      "{'model_path': '/Users/jackyho/stanfordnlp_resources/en_ewt_models/en_ewt_lemmatizer.pt', 'lang': 'en', 'shorthand': 'en_ewt', 'mode': 'predict'}\n",
      "Building an attentional Seq2Seq model...\n",
      "Using a Bi-LSTM encoder\n",
      "Using soft attention for LSTM.\n",
      "Finetune all embeddings.\n",
      "[Running seq2seq lemmatizer with edit classifier]\n",
      "---\n",
      "Loading: depparse\n",
      "With settings: \n",
      "{'model_path': '/Users/jackyho/stanfordnlp_resources/en_ewt_models/en_ewt_parser.pt', 'pretrain_path': '/Users/jackyho/stanfordnlp_resources/en_ewt_models/en_ewt.pretrain.pt', 'lang': 'en', 'shorthand': 'en_ewt', 'mode': 'predict'}\n",
      "Done loading processors!\n",
      "---\n"
     ]
    }
   ],
   "source": [
    "nlp = stanfordnlp.Pipeline()"
   ]
  },
  {
   "cell_type": "code",
   "execution_count": 191,
   "metadata": {},
   "outputs": [
    {
     "data": {
      "text/plain": [
       "{'Small animal': {'Refer to Animal Control': {}},\n",
       " ' Large animal': {'On municipal property': {'Refer to Public Works Yard': {}},\n",
       "  'On highways': {'Contact the Department of Highways': {}}}}"
      ]
     },
     "execution_count": 191,
     "metadata": {},
     "output_type": "execute_result"
    }
   ],
   "source": [
    "sop['Deceased animals']"
   ]
  },
  {
   "cell_type": "code",
   "execution_count": 192,
   "metadata": {},
   "outputs": [],
   "source": [
    "def flatten_sop(sop_dict):\n",
    "    new_sop_dict = {}\n",
    "    \n",
    "    for key, value in sop_dict.items(): \n",
    "        new_sop_dict[key] = merge_dict_conditions(value)\n",
    "    \n",
    "    return new_sop_dict"
   ]
  },
  {
   "cell_type": "code",
   "execution_count": 223,
   "metadata": {},
   "outputs": [],
   "source": [
    "def merge_dict_conditions(sop_dict, previous_levels = []):\n",
    "    new_sop_dict = {}\n",
    "    \n",
    "    for key, value in sop_dict.items():\n",
    "        doc = nlp(str(key))\n",
    "        \n",
    "        print(key)\n",
    "        print(doc.sentences[0].words[0].upos)\n",
    "\n",
    "        if doc.sentences[0].words[0].upos == 'VERB':\n",
    "            if len(previous_levels) == 0:\n",
    "                new_sop_dict[key] = value\n",
    "            else:\n",
    "                for level in previous_levels:\n",
    "                    new_sop_dict[level] = {}\n",
    "                    new_sop_dict[level][key] = value\n",
    "        else:\n",
    "            flattened_levels = []\n",
    "            if len(previous_levels) == 0:\n",
    "                flattened_levels.append(key)\n",
    "            else:\n",
    "                flattened_levels += list(map(lambda x: x + ' - ' + key, previous_levels))\n",
    "            \n",
    "            new_dict = merge_dict_conditions(value, flattened_levels)\n",
    "            new_sop_dict = always_merger.merge(new_sop_dict, new_dict)   \n",
    "            \n",
    "    return new_sop_dict"
   ]
  },
  {
   "cell_type": "code",
   "execution_count": 224,
   "metadata": {},
   "outputs": [
    {
     "data": {
      "text/plain": [
       "{'If animal is in imminent distress': {'Transfer caller to Fire': {}},\n",
       " 'In all other instances': {'Refer to Animal Control': {}}}"
      ]
     },
     "execution_count": 224,
     "metadata": {},
     "output_type": "execute_result"
    }
   ],
   "source": [
    "sop['Animal left in a vehicle']"
   ]
  },
  {
   "cell_type": "code",
   "execution_count": 225,
   "metadata": {},
   "outputs": [
    {
     "name": "stdout",
     "output_type": "stream",
     "text": [
      "If animal is in imminent distress\n",
      "SCONJ\n",
      "Transfer caller to Fire\n",
      "NOUN\n",
      "In all other instances\n",
      "ADP\n",
      "Refer to Animal Control\n",
      "VERB\n"
     ]
    },
    {
     "name": "stderr",
     "output_type": "stream",
     "text": [
      "../aten/src/ATen/native/TensorAdvancedIndexing.cpp:543: UserWarning: masked_fill_ received a mask with dtype torch.uint8, this behavior is now deprecated,please use a mask with dtype torch.bool instead.\n",
      "../aten/src/ATen/native/TensorAdvancedIndexing.cpp:543: UserWarning: masked_fill_ received a mask with dtype torch.uint8, this behavior is now deprecated,please use a mask with dtype torch.bool instead.\n",
      "../aten/src/ATen/native/TensorAdvancedIndexing.cpp:543: UserWarning: masked_fill_ received a mask with dtype torch.uint8, this behavior is now deprecated,please use a mask with dtype torch.bool instead.\n",
      "../aten/src/ATen/native/TensorAdvancedIndexing.cpp:543: UserWarning: masked_fill_ received a mask with dtype torch.uint8, this behavior is now deprecated,please use a mask with dtype torch.bool instead.\n"
     ]
    },
    {
     "data": {
      "text/plain": [
       "{'In all other instances': {'Refer to Animal Control': {}}}"
      ]
     },
     "execution_count": 225,
     "metadata": {},
     "output_type": "execute_result"
    }
   ],
   "source": [
    "merge_dict_conditions(sop['Animal left in a vehicle'])"
   ]
  },
  {
   "cell_type": "code",
   "execution_count": 221,
   "metadata": {},
   "outputs": [
    {
     "data": {
      "text/plain": [
       "{'In all other instances': {'Refer to Animal Control': {}}}"
      ]
     },
     "execution_count": 221,
     "metadata": {},
     "output_type": "execute_result"
    }
   ],
   "source": [
    "flat_sop"
   ]
  },
  {
   "cell_type": "code",
   "execution_count": 207,
   "metadata": {},
   "outputs": [],
   "source": [
    "dict_to_graph(flat_sop).write_png('example1b_graph.png')"
   ]
  },
  {
   "cell_type": "code",
   "execution_count": 210,
   "metadata": {},
   "outputs": [
    {
     "name": "stdout",
     "output_type": "stream",
     "text": [
      "{'Animal bites – Just occurred or with a time delay': {'Advise BCEHS as required': {},\n",
      "                                                       'Refer to Animal Control': {}},\n",
      " 'Animal left in a vehicle': {'If animal is in imminent distress': {'Transfer caller to Fire': {}},\n",
      "                              'In all other instances': {'Refer to Animal Control': {}}},\n",
      " 'Deceased animals': {' Large animal': {'On highways': {'Contact the Department of Highways': {}},\n",
      "                                        'On municipal property': {'Refer to Public Works Yard': {}}},\n",
      "                      'Small animal': {'Refer to Animal Control': {}}},\n",
      " 'Dogs at large': {'If running at large and attacking or viciously pursuing a person or domestic animal or livestock': {'Create a call': {}},\n",
      "                   'In all other cases ': {'Refer to Animal Control': {}}},\n",
      " 'Dogs barking': {'Refer to Animal Control': {}},\n",
      " 'Livestock at large': {'Create a call': {'Can the animal be contained?': {},\n",
      "                                          'Description': {},\n",
      "                                          'How many animals are loose': {},\n",
      "                                          'Is the animal a traffic hazard or danger to the public?': {},\n",
      "                                          'Is the owner known or present?': {},\n",
      "                                          'Type of animal': {}}},\n",
      " 'MVI’s involving Livestock': {'Create an MVI call': {},\n",
      "                               'Instruct caller not to remove animals from the trailer': {}},\n",
      " 'Neglected or injured domestic animals': {'Injured dogs and cats as a result of a fire or MVI': {'Refer to Fire': {}},\n",
      "                                           'Refer to Animal Control': {}},\n",
      " 'Nuisance animals (including on the freeway and pet snakes)': {'Create a call if there is immediate danger': {},\n",
      "                                                                'Refer to Animal Control or Conservation office': {}},\n",
      " 'Wild animals ': {'Bear sightings': {'Refer caller to the Emergency Coordination Centre for Bear Sightings': {}},\n",
      "                   'If animal exhibits aggressive behaviour (e.g. stalking)': {'Create a call': {}},\n",
      "                   'If animal remains in a residential or urban area or is in a park, school yard or recreational area (excluding rural trails) that would likely be in use': {'Refer caller to Conservation ': {}},\n",
      "                   'If stray rabbit': {'Refer to SPCA': {}},\n",
      "                   'If wild animal is injured': {'Refer caller to Conservation': {}}}}\n"
     ]
    }
   ],
   "source": [
    "pprint(sop)"
   ]
  },
  {
   "cell_type": "code",
   "execution_count": 211,
   "metadata": {},
   "outputs": [
    {
     "name": "stdout",
     "output_type": "stream",
     "text": [
      "{'Animal bites – Just occurred or with a time delay': {'Advise BCEHS as required': {},\n",
      "                                                       'Refer to Animal Control': {}},\n",
      " 'Animal left in a vehicle': {'In all other instances': {'Refer to Animal Control': {}}},\n",
      " 'Deceased animals': {' Large animal - On highways': {'Contact the Department of Highways': {}},\n",
      "                      ' Large animal - On municipal property': {'Refer to Public Works Yard': {}},\n",
      "                      'Small animal': {'Refer to Animal Control': {}}},\n",
      " 'Dogs at large': {'If running at large and attacking or viciously pursuing a person or domestic animal or livestock': {'Create a call': {}},\n",
      "                   'In all other cases ': {'Refer to Animal Control': {}}},\n",
      " 'Dogs barking': {'Refer to Animal Control': {}},\n",
      " 'Livestock at large': {'Create a call': {'Can the animal be contained?': {},\n",
      "                                          'Description': {},\n",
      "                                          'How many animals are loose': {},\n",
      "                                          'Is the animal a traffic hazard or danger to the public?': {},\n",
      "                                          'Is the owner known or present?': {},\n",
      "                                          'Type of animal': {}}},\n",
      " 'MVI’s involving Livestock': {'Create an MVI call': {},\n",
      "                               'Instruct caller not to remove animals from the trailer': {}},\n",
      " 'Neglected or injured domestic animals': {'Injured dogs and cats as a result of a fire or MVI': {'Refer to Fire': {}},\n",
      "                                           'Refer to Animal Control': {}},\n",
      " 'Nuisance animals (including on the freeway and pet snakes)': {'Create a call if there is immediate danger': {},\n",
      "                                                                'Refer to Animal Control or Conservation office': {}},\n",
      " 'Wild animals ': {'Bear sightings': {'Refer caller to the Emergency Coordination Centre for Bear Sightings': {}},\n",
      "                   'If animal exhibits aggressive behaviour (e.g. stalking)': {'Create a call': {}},\n",
      "                   'If animal remains in a residential or urban area or is in a park, school yard or recreational area (excluding rural trails) that would likely be in use': {'Refer caller to Conservation ': {}},\n",
      "                   'If stray rabbit': {'Refer to SPCA': {}},\n",
      "                   'If wild animal is injured': {'Refer caller to Conservation': {}}}}\n"
     ]
    }
   ],
   "source": [
    "pprint(flat_sop)"
   ]
  },
  {
   "cell_type": "code",
   "execution_count": null,
   "metadata": {},
   "outputs": [],
   "source": []
  }
 ],
 "metadata": {
  "kernelspec": {
   "display_name": "Python 3",
   "language": "python",
   "name": "python3"
  },
  "language_info": {
   "codemirror_mode": {
    "name": "ipython",
    "version": 3
   },
   "file_extension": ".py",
   "mimetype": "text/x-python",
   "name": "python",
   "nbconvert_exporter": "python",
   "pygments_lexer": "ipython3",
   "version": "3.7.4"
  }
 },
 "nbformat": 4,
 "nbformat_minor": 4
}
