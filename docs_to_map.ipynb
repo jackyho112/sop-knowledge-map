{
 "cells": [
  {
   "cell_type": "code",
   "execution_count": 1,
   "metadata": {},
   "outputs": [],
   "source": [
    "import mammoth\n",
    "from bs4 import BeautifulSoup\n",
    "from pprint import pprint\n",
    "import pydot\n",
    "from os import listdir\n",
    "from os.path import isfile, join\n",
    "import spacy"
   ]
  },
  {
   "cell_type": "code",
   "execution_count": 2,
   "metadata": {},
   "outputs": [],
   "source": [
    "# Source: https://stackoverflow.com/questions/20656135/python-deep-merge-dictionary-data\n",
    "def deep_merge_dicts(source, destination):\n",
    "    \"\"\"\n",
    "    Deep merge dicts\n",
    "\n",
    "    >>> a = { 'first' : { 'all_rows' : { 'pass' : 'dog', 'number' : '1' } } }\n",
    "    >>> b = { 'first' : { 'all_rows' : { 'fail' : 'cat', 'number' : '5' } } }\n",
    "    >>> merge(b, a) == { 'first' : { 'all_rows' : { 'pass' : 'dog', 'fail' : 'cat', 'number' : '5' } } }\n",
    "    True\n",
    "    \"\"\"\n",
    "    for key, value in source.items():\n",
    "        if isinstance(value, dict):\n",
    "            # get node or create one\n",
    "            node = destination.setdefault(key, {})\n",
    "            deep_merge_dicts(value, node)\n",
    "        elif isinstance(value, list) and key in destination.keys():\n",
    "            destination[key] = list(set(value + destination[key]))            \n",
    "        else:\n",
    "            destination[key] = value\n",
    "\n",
    "    return destination"
   ]
  },
  {
   "cell_type": "code",
   "execution_count": 3,
   "metadata": {},
   "outputs": [],
   "source": [
    "def nested_list_to_dict(ul, doc_words_setter):\n",
    "    level = {}\n",
    "    lis = ul.findChildren('li' , recursive=False)\n",
    "    \n",
    "    for li in lis:\n",
    "        child_ul = li.find('ul')\n",
    "        text = li.next_element.strip()\n",
    "        \n",
    "        doc_words_setter(text)\n",
    "        if child_ul == None:\n",
    "            level[text] = {}\n",
    "        else:\n",
    "            level[text] = nested_list_to_dict(child_ul, doc_words_setter)\n",
    "            \n",
    "    return level\n",
    "\n",
    "def file_to_html(file_path):\n",
    "    f = open(file_path, 'rb')\n",
    "    document = mammoth.convert_to_html(f)\n",
    "    return BeautifulSoup(document.value.encode('utf8'))\n",
    "\n",
    "def doc_to_dict(file_path):\n",
    "    html = file_to_html(file_path)\n",
    "    start = html.find('h1', string='call taker')\n",
    "    event = {}\n",
    "    doc_words = {}\n",
    "    current_sit = None\n",
    "    set_doc_words = lambda words: words not in doc_words.keys() and doc_words.update({words: [file_path]})\n",
    "\n",
    "    for element in start.next_elements:\n",
    "        tag = element.name\n",
    "        level = {}\n",
    "\n",
    "        if tag == 'h1':\n",
    "            break\n",
    "        elif tag == 'h2':\n",
    "            current_situation = element.text.strip()\n",
    "            event[current_situation] = {}\n",
    "        elif tag == 'p':\n",
    "            next_next_element = element.next_element.next_element\n",
    "            text = element.text.strip()\n",
    "            \n",
    "            set_doc_words(text)\n",
    "\n",
    "            if next_next_element.name == 'ul':\n",
    "                event[current_situation][text] = nested_list_to_dict(\n",
    "                    next_next_element.find('ul'),\n",
    "                    set_doc_words\n",
    "                )\n",
    "            else:\n",
    "                event[current_situation][element.text] = {}\n",
    "\n",
    "    return event, doc_words"
   ]
  },
  {
   "cell_type": "code",
   "execution_count": 4,
   "metadata": {},
   "outputs": [],
   "source": [
    "def draw(graph, parent_name, child_name):\n",
    "    edge = pydot.Edge(parent_name, child_name)\n",
    "    graph.add_edge(edge)\n",
    "\n",
    "def visit(graph, node, parents=[], allowed_nodes=None):\n",
    "    for k,v in node.items():\n",
    "        if len(parents) > 0 and (allowed_nodes == None or k in allowed_nodes):\n",
    "            draw(graph, parents[-1], k)    \n",
    "            \n",
    "        new_parents = parents.copy()\n",
    "        \n",
    "        if len(parents) == 0 or allowed_nodes == None or k in allowed_nodes:\n",
    "            new_parents.append(k)\n",
    "        \n",
    "        visit(graph, v, new_parents, allowed_nodes)\n",
    "\n",
    "def dict_to_graph(sop_dict, allowed_nodes=None):\n",
    "    graph = pydot.Dot(graph_type='graph', rankdir='LR')\n",
    "    visit(graph, sop_dict, allowed_nodes=allowed_nodes)\n",
    "    \n",
    "    return graph"
   ]
  },
  {
   "cell_type": "code",
   "execution_count": 5,
   "metadata": {},
   "outputs": [],
   "source": [
    "def docs_to_dict(dir_path):\n",
    "    files = [f for f in listdir(dir_path) if isfile(join(dir_path, f)) and '.docx' in f]\n",
    "    dir_dict = {}\n",
    "    doc_words = {}\n",
    "    \n",
    "    for file_path in files:\n",
    "        file_dict, file_doc_words = doc_to_dict(dir_path + '/' + file_path)\n",
    "        dir_dict = deep_merge_dicts(dir_dict, file_dict)\n",
    "        doc_words = deep_merge_dicts(doc_words, file_doc_words)\n",
    "\n",
    "    return dir_dict, doc_words"
   ]
  },
  {
   "cell_type": "code",
   "execution_count": 6,
   "metadata": {},
   "outputs": [],
   "source": [
    "def filter_nodes(doc_words, doc_threshold = 2):\n",
    "    allowed_nodes = []\n",
    "    \n",
    "    for k, v in doc_words.items():\n",
    "        if len(v) <= doc_threshold:\n",
    "            allowed_nodes.append(k)\n",
    "    \n",
    "    return allowed_nodes"
   ]
  },
  {
   "cell_type": "code",
   "execution_count": 7,
   "metadata": {},
   "outputs": [],
   "source": [
    "sop, doc_words = doc_to_dict(\"./data/A-ANIMAL.docx\")"
   ]
  },
  {
   "cell_type": "code",
   "execution_count": 8,
   "metadata": {},
   "outputs": [
    {
     "name": "stdout",
     "output_type": "stream",
     "text": [
      "{'Animal bites – Just occurred or with a time delay': {'Advise BCEHS as required': {},\n",
      "                                                       'Refer to Animal Control': {}},\n",
      " 'Animal left in a vehicle': {'If animal is in imminent distress': {'Transfer caller to Fire': {}},\n",
      "                              'In all other instances': {'Refer to Animal Control': {}}},\n",
      " 'Deceased animals': {'Large animal': {'On highways': {'Contact the Department of Highways': {}},\n",
      "                                       'On municipal property': {'Refer to Public Works Yard': {}}},\n",
      "                      'Small animal': {'Refer to Animal Control': {}}},\n",
      " 'Dogs at large': {'If running at large and attacking or viciously pursuing a person or domestic animal or livestock': {'Create a call': {}},\n",
      "                   'In all other cases': {'Refer to Animal Control': {}}},\n",
      " 'Dogs barking': {'Refer to Animal Control': {}},\n",
      " 'Livestock at large': {'Create a call': {'Can the animal be contained?': {},\n",
      "                                          'Description': {},\n",
      "                                          'How many animals are loose': {},\n",
      "                                          'Is the animal a traffic hazard or danger to the public?': {},\n",
      "                                          'Is the owner known or present?': {},\n",
      "                                          'Type of animal': {}}},\n",
      " 'MVI’s involving Livestock': {'Create an MVI call': {},\n",
      "                               'Instruct caller not to remove animals from the trailer': {}},\n",
      " 'Neglected or injured domestic animals': {'Injured dogs and cats as a result of a fire or MVI': {'Refer to Fire': {}},\n",
      "                                           'Refer to Animal Control': {}},\n",
      " 'Nuisance animals (including on the freeway and pet snakes)': {'Create a call if there is immediate danger': {},\n",
      "                                                                'Refer to Animal Control or Conservation office': {}},\n",
      " 'Wild animals': {'Bear sightings': {'Refer caller to the Emergency Coordination Centre for Bear Sightings': {}},\n",
      "                  'If animal exhibits aggressive behaviour (e.g. stalking)': {'Create a call': {}},\n",
      "                  'If animal remains in a residential or urban area or is in a park, school yard or recreational area (excluding rural trails) that would likely be in use': {'Refer caller to Conservation': {}},\n",
      "                  'If stray rabbit': {'Refer to SPCA': {}},\n",
      "                  'If wild animal is injured': {'Refer caller to Conservation': {}}}}\n"
     ]
    }
   ],
   "source": [
    "pprint(sop)"
   ]
  },
  {
   "cell_type": "code",
   "execution_count": 9,
   "metadata": {},
   "outputs": [
    {
     "name": "stdout",
     "output_type": "stream",
     "text": [
      "{'Advise BCEHS as required': ['./data/A-ANIMAL.docx'],\n",
      " 'Bear sightings': ['./data/A-ANIMAL.docx'],\n",
      " 'Can the animal be contained?': ['./data/A-ANIMAL.docx'],\n",
      " 'Contact the Department of Highways': ['./data/A-ANIMAL.docx'],\n",
      " 'Create a call': ['./data/A-ANIMAL.docx'],\n",
      " 'Create a call if there is immediate danger': ['./data/A-ANIMAL.docx'],\n",
      " 'Create an MVI call': ['./data/A-ANIMAL.docx'],\n",
      " 'Description': ['./data/A-ANIMAL.docx'],\n",
      " 'How many animals are loose': ['./data/A-ANIMAL.docx'],\n",
      " 'If animal exhibits aggressive behaviour (e.g. stalking)': ['./data/A-ANIMAL.docx'],\n",
      " 'If animal is in imminent distress': ['./data/A-ANIMAL.docx'],\n",
      " 'If animal remains in a residential or urban area or is in a park, school yard or recreational area (excluding rural trails) that would likely be in use': ['./data/A-ANIMAL.docx'],\n",
      " 'If running at large and attacking or viciously pursuing a person or domestic animal or livestock': ['./data/A-ANIMAL.docx'],\n",
      " 'If stray rabbit': ['./data/A-ANIMAL.docx'],\n",
      " 'If wild animal is injured': ['./data/A-ANIMAL.docx'],\n",
      " 'In all other cases': ['./data/A-ANIMAL.docx'],\n",
      " 'In all other instances': ['./data/A-ANIMAL.docx'],\n",
      " 'Injured dogs and cats as a result of a fire or MVI': ['./data/A-ANIMAL.docx'],\n",
      " 'Instruct caller not to remove animals from the trailer': ['./data/A-ANIMAL.docx'],\n",
      " 'Is the animal a traffic hazard or danger to the public?': ['./data/A-ANIMAL.docx'],\n",
      " 'Is the owner known or present?': ['./data/A-ANIMAL.docx'],\n",
      " 'Large animal': ['./data/A-ANIMAL.docx'],\n",
      " 'On highways': ['./data/A-ANIMAL.docx'],\n",
      " 'On municipal property': ['./data/A-ANIMAL.docx'],\n",
      " 'Refer caller to Conservation': ['./data/A-ANIMAL.docx'],\n",
      " 'Refer caller to the Emergency Coordination Centre for Bear Sightings': ['./data/A-ANIMAL.docx'],\n",
      " 'Refer to Animal Control': ['./data/A-ANIMAL.docx'],\n",
      " 'Refer to Animal Control or Conservation office': ['./data/A-ANIMAL.docx'],\n",
      " 'Refer to Fire': ['./data/A-ANIMAL.docx'],\n",
      " 'Refer to Public Works Yard': ['./data/A-ANIMAL.docx'],\n",
      " 'Refer to SPCA': ['./data/A-ANIMAL.docx'],\n",
      " 'Small animal': ['./data/A-ANIMAL.docx'],\n",
      " 'Transfer caller to Fire': ['./data/A-ANIMAL.docx'],\n",
      " 'Type of animal': ['./data/A-ANIMAL.docx']}\n"
     ]
    }
   ],
   "source": [
    "pprint(doc_words)"
   ]
  },
  {
   "cell_type": "code",
   "execution_count": 10,
   "metadata": {},
   "outputs": [],
   "source": [
    "graph = dict_to_graph(sop)"
   ]
  },
  {
   "cell_type": "code",
   "execution_count": 11,
   "metadata": {},
   "outputs": [],
   "source": [
    "graph.write_png('example1_graph.png')"
   ]
  },
  {
   "cell_type": "code",
   "execution_count": 12,
   "metadata": {},
   "outputs": [],
   "source": [
    "big_dict, file_doc_words = docs_to_dict('./data')"
   ]
  },
  {
   "cell_type": "code",
   "execution_count": 13,
   "metadata": {},
   "outputs": [],
   "source": [
    "graph = dict_to_graph(big_dict)"
   ]
  },
  {
   "cell_type": "code",
   "execution_count": 14,
   "metadata": {},
   "outputs": [],
   "source": [
    "graph.write_png('example2_graph.png')"
   ]
  },
  {
   "cell_type": "code",
   "execution_count": 15,
   "metadata": {},
   "outputs": [],
   "source": [
    "graph = dict_to_graph(big_dict, filter_nodes(file_doc_words, doc_threshold=2))"
   ]
  },
  {
   "cell_type": "code",
   "execution_count": 16,
   "metadata": {},
   "outputs": [],
   "source": [
    "graph.write_png('example3_graph.png')"
   ]
  },
  {
   "cell_type": "code",
   "execution_count": 17,
   "metadata": {},
   "outputs": [],
   "source": [
    "graph = dict_to_graph(big_dict, filter_nodes(file_doc_words, doc_threshold=1))"
   ]
  },
  {
   "cell_type": "code",
   "execution_count": 18,
   "metadata": {},
   "outputs": [],
   "source": [
    "graph.write_png('example4_graph.png')"
   ]
  },
  {
   "cell_type": "code",
   "execution_count": 19,
   "metadata": {},
   "outputs": [],
   "source": [
    "nlp = spacy.load(\"en_core_web_sm\")"
   ]
  },
  {
   "cell_type": "code",
   "execution_count": 20,
   "metadata": {},
   "outputs": [],
   "source": [
    "def flatten_sop(sop_dict):\n",
    "    new_sop_dict = {}\n",
    "    \n",
    "    for key, value in sop_dict.items(): \n",
    "        new_sop_dict[key] = merge_dict_conditions(value)\n",
    "    \n",
    "    return new_sop_dict"
   ]
  },
  {
   "cell_type": "code",
   "execution_count": 21,
   "metadata": {},
   "outputs": [],
   "source": [
    "def merge_dict_conditions(sop_dict, previous_levels = []):\n",
    "    new_sop_dict = {}\n",
    "    \n",
    "    for key, value in sop_dict.items():\n",
    "        sentence = key[0].lower() + key[1:]\n",
    "        \n",
    "        if len(previous_levels) > 0:\n",
    "            sentence = ' , '.join(previous_levels) + ' , ' + sentence\n",
    "            \n",
    "        sentence = sentence.replace('caller', 'CALLER').replace('complainant', 'COMPLAINANT')\n",
    "        \n",
    "        doc = nlp(sentence)\n",
    "\n",
    "        if doc[-len(key.strip().split(' '))].pos_ == 'VERB' or value == {}:\n",
    "            if len(previous_levels) == 0:\n",
    "                new_sop_dict[key] = value\n",
    "            else:\n",
    "                for level in previous_levels:\n",
    "                    if level not in new_sop_dict.keys():\n",
    "                        new_sop_dict[level] = {}\n",
    "\n",
    "                    new_sop_dict[level][key] = value\n",
    "        else:\n",
    "            flattened_levels = []\n",
    "            if len(previous_levels) == 0:\n",
    "                flattened_levels.append(key)\n",
    "            else:\n",
    "                flattened_levels += list(map(lambda x: x + ' , ' + key, previous_levels))\n",
    "            \n",
    "            new_dict = merge_dict_conditions(value, flattened_levels)\n",
    "            new_sop_dict = deep_merge_dicts(new_sop_dict, new_dict)   \n",
    "            \n",
    "    return new_sop_dict"
   ]
  },
  {
   "cell_type": "code",
   "execution_count": 22,
   "metadata": {},
   "outputs": [],
   "source": [
    "graph = dict_to_graph(flatten_sop(big_dict))"
   ]
  },
  {
   "cell_type": "code",
   "execution_count": 23,
   "metadata": {},
   "outputs": [],
   "source": [
    "graph.write_png('example5_graph.png')"
   ]
  },
  {
   "cell_type": "code",
   "execution_count": 26,
   "metadata": {},
   "outputs": [],
   "source": [
    "doc = nlp('In all other instances,, instruct CALLER not to remove animals from the trailer')"
   ]
  },
  {
   "cell_type": "code",
   "execution_count": 27,
   "metadata": {},
   "outputs": [
    {
     "name": "stdout",
     "output_type": "stream",
     "text": [
      "In in ADP IN prep Xx True True\n",
      "all all DET DT det xxx True True\n",
      "other other ADJ JJ amod xxxx True True\n",
      "instances instance NOUN NNS pobj xxxx True False\n",
      ", , PUNCT , punct , False False\n",
      ", , PUNCT , punct , False False\n",
      "instruct instruct VERB VBP compound xxxx True False\n",
      "CALLER CALLER PROPN NNP nsubj XXXX True False\n",
      "not not PART RB neg xxx True True\n",
      "to to PART TO aux xx True True\n",
      "remove remove VERB VB ROOT xxxx True False\n",
      "animals animal NOUN NNS dobj xxxx True False\n",
      "from from ADP IN prep xxxx True True\n",
      "the the DET DT det xxx True True\n",
      "trailer trailer NOUN NN pobj xxxx True False\n"
     ]
    }
   ],
   "source": [
    "for token in doc:\n",
    "    print(token.text, token.lemma_, token.pos_, token.tag_, token.dep_,\n",
    "            token.shape_, token.is_alpha, token.is_stop)"
   ]
  },
  {
   "cell_type": "markdown",
   "metadata": {},
   "source": [
    "![](Situation.jpeg)"
   ]
  },
  {
   "cell_type": "code",
   "execution_count": null,
   "metadata": {},
   "outputs": [],
   "source": []
  }
 ],
 "metadata": {
  "kernelspec": {
   "display_name": "Python 3",
   "language": "python",
   "name": "python3"
  },
  "language_info": {
   "codemirror_mode": {
    "name": "ipython",
    "version": 3
   },
   "file_extension": ".py",
   "mimetype": "text/x-python",
   "name": "python",
   "nbconvert_exporter": "python",
   "pygments_lexer": "ipython3",
   "version": "3.7.4"
  }
 },
 "nbformat": 4,
 "nbformat_minor": 4
}
