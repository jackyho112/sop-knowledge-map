{
 "cells": [
  {
   "cell_type": "code",
   "execution_count": 9,
   "metadata": {},
   "outputs": [],
   "source": [
    "import mammoth\n",
    "from bs4 import BeautifulSoup\n",
    "from pprint import pprint\n",
    "import pydot\n",
    "from IPython.display import Image, display\n",
    "from os import listdir\n",
    "from os.path import isfile, join"
   ]
  },
  {
   "cell_type": "code",
   "execution_count": 2,
   "metadata": {},
   "outputs": [],
   "source": [
    "def nested_list_to_dict(ul):\n",
    "    level = {}\n",
    "    lis = ul.findChildren('li' , recursive=False)\n",
    "    \n",
    "    for li in lis:\n",
    "        child_ul = li.find('ul')\n",
    "        if child_ul == None:\n",
    "            level[li.next_element] = {}\n",
    "        else:\n",
    "            level[li.next_element] = nested_list_to_dict(child_ul)\n",
    "            \n",
    "    return level\n",
    "\n",
    "def file_to_html(file_path):\n",
    "    f = open(file_path, 'rb')\n",
    "    document = mammoth.convert_to_html(f)\n",
    "    return BeautifulSoup(document.value.encode('utf8'))\n",
    "\n",
    "def doc_to_dict(file_path):\n",
    "    html = file_to_html(file_path)\n",
    "    start = html.find('h1', string='call taker')\n",
    "    event = {}\n",
    "    current_sit = None\n",
    "\n",
    "    for element in start.next_elements:\n",
    "        tag = element.name\n",
    "        level = {}\n",
    "\n",
    "        if tag == 'h1':\n",
    "            break\n",
    "        elif tag == 'h2':\n",
    "            current_situation = element.text\n",
    "            event[current_situation] = {}\n",
    "        elif tag == 'p':\n",
    "            next_next_element = element.next_element.next_element\n",
    "            if next_next_element.name == 'ul':\n",
    "                event[current_situation][element.text] = nested_list_to_dict(next_next_element.find('ul'))\n",
    "            else:\n",
    "                event[current_situation][element.text] = {}\n",
    "\n",
    "    return event"
   ]
  },
  {
   "cell_type": "code",
   "execution_count": 3,
   "metadata": {},
   "outputs": [],
   "source": [
    "sop = doc_to_dict(\"./data/A-ANIMAL.docx\")"
   ]
  },
  {
   "cell_type": "code",
   "execution_count": 4,
   "metadata": {},
   "outputs": [
    {
     "name": "stdout",
     "output_type": "stream",
     "text": [
      "{'Animal bites – Just occurred or with a time delay': {'Advise BCEHS as required': {},\n",
      "                                                       'Refer to Animal Control': {}},\n",
      " 'Animal left in a vehicle': {'If animal is in imminent distress': {'Transfer caller to Fire': {}},\n",
      "                              'In all other instances': {'Refer to Animal Control': {}}},\n",
      " 'Deceased animals': {' Large animal': {'On highways': {'Contact the Department of Highways': {}},\n",
      "                                        'On municipal property': {'Refer to Public Works Yard': {}}},\n",
      "                      'Small animal': {'Refer to Animal Control': {}}},\n",
      " 'Dogs at large': {'If running at large and attacking or viciously pursuing a person or domestic animal or livestock': {'Create a call': {}},\n",
      "                   'In all other cases ': {'Refer to Animal Control': {}}},\n",
      " 'Dogs barking': {'Refer to Animal Control': {}},\n",
      " 'Livestock at large': {'Create a call': {'Can the animal be contained?': {},\n",
      "                                          'Description': {},\n",
      "                                          'How many animals are loose': {},\n",
      "                                          'Is the animal a traffic hazard or danger to the public?': {},\n",
      "                                          'Is the owner known or present?': {},\n",
      "                                          'Type of animal': {}}},\n",
      " 'MVI’s involving Livestock': {'Create an MVI call': {},\n",
      "                               'Instruct caller not to remove animals from the trailer': {}},\n",
      " 'Neglected or injured domestic animals': {'Injured dogs and cats as a result of a fire or MVI': {'Refer to Fire': {}},\n",
      "                                           'Refer to Animal Control': {}},\n",
      " 'Nuisance animals (including on the freeway and pet snakes)': {'Create a call if there is immediate danger': {},\n",
      "                                                                'Refer to Animal Control or Conservation office': {}},\n",
      " 'Wild animals ': {'Bear sightings': {'Refer caller to the Emergency Coordination Centre for Bear Sightings': {}},\n",
      "                   'If animal exhibits aggressive behaviour (e.g. stalking)': {'Create a call': {}},\n",
      "                   'If animal remains in a residential or urban area or is in a park, school yard or recreational area (excluding rural trails) that would likely be in use': {'Refer caller to Conservation ': {}},\n",
      "                   'If stray rabbit': {'Refer to SPCA': {}},\n",
      "                   'If wild animal is injured': {'Refer caller to Conservation': {}}}}\n"
     ]
    }
   ],
   "source": [
    "pprint(sop)"
   ]
  },
  {
   "cell_type": "code",
   "execution_count": 5,
   "metadata": {},
   "outputs": [],
   "source": [
    "def draw(graph, parent_name, child_name):\n",
    "    edge = pydot.Edge(parent_name, child_name)\n",
    "    graph.add_edge(edge)\n",
    "\n",
    "def visit(graph, node, parent=None):\n",
    "    for k,v in node.items():\n",
    "        if parent:\n",
    "            draw(graph, parent, k)\n",
    "        visit(graph, v, k)\n",
    "\n",
    "def dict_to_graph(sop_dict):\n",
    "    graph = pydot.Dot(graph_type='graph')\n",
    "    visit(graph, sop_dict)\n",
    "    \n",
    "    return graph"
   ]
  },
  {
   "cell_type": "code",
   "execution_count": 6,
   "metadata": {},
   "outputs": [],
   "source": [
    "graph = dict_to_graph(sop)"
   ]
  },
  {
   "cell_type": "code",
   "execution_count": 7,
   "metadata": {},
   "outputs": [],
   "source": [
    "graph.write_png('example1_graph.png')"
   ]
  },
  {
   "cell_type": "code",
   "execution_count": 12,
   "metadata": {},
   "outputs": [],
   "source": [
    "def docs_to_dict(dir_path):\n",
    "    files = [f for f in listdir(dir_path) if isfile(join(dir_path, f))]\n",
    "    dir_dict = {}\n",
    "    \n",
    "    for file_path in files:\n",
    "        file_dict = doc_to_dict(dir_path + '/' + file_path)\n",
    "        dir_dict = {**dir_dict, **file_dict}\n",
    "\n",
    "    return dir_dict"
   ]
  },
  {
   "cell_type": "code",
   "execution_count": 13,
   "metadata": {},
   "outputs": [],
   "source": [
    "big_dict = docs_to_dict('./data')"
   ]
  },
  {
   "cell_type": "code",
   "execution_count": 15,
   "metadata": {},
   "outputs": [],
   "source": [
    "graph = dict_to_graph(big_dict)"
   ]
  },
  {
   "cell_type": "code",
   "execution_count": 16,
   "metadata": {},
   "outputs": [],
   "source": [
    "graph.write_png('example2_graph.png')"
   ]
  }
 ],
 "metadata": {
  "kernelspec": {
   "display_name": "Python 3",
   "language": "python",
   "name": "python3"
  },
  "language_info": {
   "codemirror_mode": {
    "name": "ipython",
    "version": 3
   },
   "file_extension": ".py",
   "mimetype": "text/x-python",
   "name": "python",
   "nbconvert_exporter": "python",
   "pygments_lexer": "ipython3",
   "version": "3.7.4"
  }
 },
 "nbformat": 4,
 "nbformat_minor": 4
}
